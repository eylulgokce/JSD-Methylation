{
 "cells": [
  {
   "cell_type": "code",
   "execution_count": 1,
   "id": "194500d1",
   "metadata": {},
   "outputs": [
    {
     "name": "stdout",
     "output_type": "stream",
     "text": [
      "1.0\n"
     ]
    }
   ],
   "source": [
    "import pandas as pd \n",
    "\n",
    "\n",
    "# Read files\n",
    "df1 = pd.read_csv(\"output_chr1.txt\", sep='\\t')\n",
    "df2 = pd.read_csv(\"output_chr1_bit_yay.txt\", sep='\\t')\n",
    "\n",
    "\n",
    "print(df2[\"HMIX_bit_\"].max())\n",
    "\n"
   ]
  },
  {
   "cell_type": "code",
   "execution_count": 2,
   "id": "a31ce6d9",
   "metadata": {},
   "outputs": [
    {
     "data": {
      "text/plain": [
       "False"
      ]
     },
     "execution_count": 2,
     "metadata": {},
     "output_type": "execute_result"
    }
   ],
   "source": [
    "df1.equals(df2)\n"
   ]
  },
  {
   "cell_type": "code",
   "execution_count": 6,
   "id": "e002e411",
   "metadata": {},
   "outputs": [
    {
     "name": "stdout",
     "output_type": "stream",
     "text": [
      "Index(['#chrom', 'start', 'end', 'JSD_bit_', 'sample size', 'HMIX_bit_', 'mC',\n",
      "       'C'],\n",
      "      dtype='object')\n",
      "Index(['#chrom', 'start', 'end', 'JSD_bit_', 'sample size', 'HMIX_bit_', 'mC',\n",
      "       'C', 'MET'],\n",
      "      dtype='object')\n"
     ]
    }
   ],
   "source": [
    "print(df1.columns)\n",
    "print(df2.columns)"
   ]
  },
  {
   "cell_type": "code",
   "execution_count": 9,
   "id": "61e8c436",
   "metadata": {},
   "outputs": [
    {
     "name": "stdout",
     "output_type": "stream",
     "text": [
      "         #chrom     start       end     _merge\n",
      "2577          1     55866     55866  left_only\n",
      "4211          1     91369     91369  left_only\n",
      "7177          1    140005    140005  left_only\n",
      "8915          1    171736    171736  left_only\n",
      "11207         1      1198      1198  left_only\n",
      "...         ...       ...       ...        ...\n",
      "1432788       1  30370008  30370008  left_only\n",
      "1432789       1  30372486  30372486  left_only\n",
      "1432790       1  30372841  30372841  left_only\n",
      "1432791       1  30376120  30376120  left_only\n",
      "1432792       1  30393418  30393418  left_only\n",
      "\n",
      "[18873 rows x 4 columns]\n"
     ]
    }
   ],
   "source": [
    "# Define key columns\n",
    "key_cols = ['#chrom', 'start', 'end']\n",
    "\n",
    "# Find rows present in one but not the other\n",
    "merged_keys = df1[key_cols].merge(df2[key_cols], how='outer', indicator=True)\n",
    "coord_diff = merged_keys[merged_keys['_merge'] != 'both']\n",
    "\n",
    "print(coord_diff)\n"
   ]
  },
  {
   "cell_type": "code",
   "execution_count": 10,
   "id": "33ded04b",
   "metadata": {},
   "outputs": [
    {
     "name": "stdout",
     "output_type": "stream",
     "text": [
      "Empty DataFrame\n",
      "Columns: [#chrom, start, end, JSD_bit__df1, JSD_bit__df2, JSD_diff]\n",
      "Index: []\n"
     ]
    }
   ],
   "source": [
    "# Merge on key columns\n",
    "merged = pd.merge(df1, df2, on=['#chrom', 'start', 'end'], suffixes=('_df1', '_df2'))\n",
    "\n",
    "# Compare JSD_bit_\n",
    "merged['JSD_diff'] = merged['JSD_bit__df1'] - merged['JSD_bit__df2']\n",
    "diffs = merged[merged['JSD_diff'] != 0]\n",
    "\n",
    "print(diffs[['#chrom', 'start', 'end', 'JSD_bit__df1', 'JSD_bit__df2', 'JSD_diff']])\n"
   ]
  },
  {
   "cell_type": "code",
   "execution_count": 11,
   "id": "7423cb87",
   "metadata": {},
   "outputs": [
    {
     "name": "stdout",
     "output_type": "stream",
     "text": [
      "_merge\n",
      "right_only    18873\n",
      "left_only         0\n",
      "both              0\n",
      "Name: count, dtype: int64\n"
     ]
    }
   ],
   "source": [
    "merged_keys = df2[key_cols].merge(df1[key_cols], how='outer', indicator=True)\n",
    "coord_diff = merged_keys[merged_keys['_merge'] != 'both']\n",
    "print(coord_diff['_merge'].value_counts())"
   ]
  },
  {
   "cell_type": "code",
   "execution_count": null,
   "id": "2ffd98c2",
   "metadata": {},
   "outputs": [],
   "source": []
  }
 ],
 "metadata": {
  "kernelspec": {
   "display_name": "Python 3",
   "language": "python",
   "name": "python3"
  },
  "language_info": {
   "codemirror_mode": {
    "name": "ipython",
    "version": 3
   },
   "file_extension": ".py",
   "mimetype": "text/x-python",
   "name": "python",
   "nbconvert_exporter": "python",
   "pygments_lexer": "ipython3",
   "version": "3.10.18"
  }
 },
 "nbformat": 4,
 "nbformat_minor": 5
}
